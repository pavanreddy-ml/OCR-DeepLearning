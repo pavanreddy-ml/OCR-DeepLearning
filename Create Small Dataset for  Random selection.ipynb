{
 "cells": [
  {
   "cell_type": "code",
   "execution_count": 3,
   "id": "181ef6e6",
   "metadata": {},
   "outputs": [],
   "source": [
    "import os\n",
    "import shutil\n",
    "import random"
   ]
  },
  {
   "cell_type": "code",
   "execution_count": 4,
   "id": "e01de758",
   "metadata": {},
   "outputs": [],
   "source": [
    "directory_s = 'Images/'\n",
    "directory_d = 'Final/'"
   ]
  },
  {
   "cell_type": "code",
   "execution_count": 5,
   "id": "e53ed5ec",
   "metadata": {},
   "outputs": [],
   "source": [
    "paths1 = os.listdir('images/')"
   ]
  },
  {
   "cell_type": "code",
   "execution_count": 18,
   "id": "f5d37041",
   "metadata": {},
   "outputs": [
    {
     "name": "stdout",
     "output_type": "stream",
     "text": [
      "dataset\n",
      "datasetDigit\n",
      "datasetSmall\n"
     ]
    }
   ],
   "source": [
    "for i in paths1:\n",
    "    source = directory_s + i + '/' + 'train/'\n",
    "    dest = directory_d\n",
    "    print(i)\n",
    "    \n",
    "    paths2 = os.listdir(source)\n",
    "    \n",
    "    for j in paths2:\n",
    "        source = directory_s + i + '/' + 'train/' + j + '/'\n",
    "        \n",
    "        if i == 'datasetSmall':\n",
    "            dest = directory_d + j + '_lower/'\n",
    "        else:\n",
    "            dest = directory_d + j + '/'\n",
    "        #print(j)\n",
    "    \n",
    "        try:\n",
    "            if i == 'datasetSmall':\n",
    "                os.makedirs(directory_d + j + '_lower/')\n",
    "            else:\n",
    "                os.makedirs(directory_d + j + '/')\n",
    "            \n",
    "        except FileExistsError:\n",
    "            pass\n",
    "\n",
    "        file_names = os.listdir(source)\n",
    "        for j in range(0,10):\n",
    "            random_img = random.choice(file_names)\n",
    "            src = source + random_img\n",
    "            dst = dest + random_img\n",
    "            shutil.copy2(src, dst)"
   ]
  },
  {
   "cell_type": "code",
   "execution_count": null,
   "id": "31d3a591",
   "metadata": {},
   "outputs": [],
   "source": []
  },
  {
   "cell_type": "code",
   "execution_count": null,
   "id": "037016da",
   "metadata": {},
   "outputs": [],
   "source": []
  },
  {
   "cell_type": "code",
   "execution_count": null,
   "id": "83dab210",
   "metadata": {},
   "outputs": [],
   "source": []
  },
  {
   "cell_type": "code",
   "execution_count": null,
   "id": "cbbcd85a",
   "metadata": {},
   "outputs": [],
   "source": []
  },
  {
   "cell_type": "code",
   "execution_count": null,
   "id": "2cbb5f18",
   "metadata": {},
   "outputs": [],
   "source": []
  },
  {
   "cell_type": "code",
   "execution_count": null,
   "id": "e5535215",
   "metadata": {},
   "outputs": [],
   "source": []
  },
  {
   "cell_type": "code",
   "execution_count": null,
   "id": "ceb93159",
   "metadata": {},
   "outputs": [],
   "source": []
  }
 ],
 "metadata": {
  "kernelspec": {
   "display_name": "Python 3",
   "language": "python",
   "name": "python3"
  },
  "language_info": {
   "codemirror_mode": {
    "name": "ipython",
    "version": 3
   },
   "file_extension": ".py",
   "mimetype": "text/x-python",
   "name": "python",
   "nbconvert_exporter": "python",
   "pygments_lexer": "ipython3",
   "version": "3.8.8"
  }
 },
 "nbformat": 4,
 "nbformat_minor": 5
}
